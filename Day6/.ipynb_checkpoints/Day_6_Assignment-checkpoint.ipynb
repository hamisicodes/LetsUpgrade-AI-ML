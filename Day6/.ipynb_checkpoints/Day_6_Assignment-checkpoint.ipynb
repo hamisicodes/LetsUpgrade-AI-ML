{
 "cells": [
  {
   "cell_type": "markdown",
   "metadata": {},
   "source": [
    "### 1) Assuming that we have some email addresses in the \"username@companyname.com\" format, please write program to print the company name of a given email address. Both user names and company names are composed of letters only.\n",
    "\n",
    "```\n",
    "Input Format:\n",
    "The first line of the input contains an email address.\n",
    "Output Format:\n",
    "Print the company name in single line.\n",
    "\n",
    "Example;\n",
    "Input:\n",
    "john@google.com\n",
    "Output:\n",
    "google\n",
    "\n",
    "```\n",
    "\n",
    "\n",
    "\n"
   ]
  },
  {
   "cell_type": "code",
   "execution_count": 6,
   "metadata": {},
   "outputs": [
    {
     "data": {
      "text/plain": [
       "'google'"
      ]
     },
     "execution_count": 6,
     "metadata": {},
     "output_type": "execute_result"
    }
   ],
   "source": [
    "def companyname(email):\n",
    "    x = email.find('@')\n",
    "    y = email.find('.com')\n",
    "    \n",
    "    company = email[x+1:y]\n",
    "    return company\n",
    "\n",
    "companyname('john@google.com')\n",
    "    "
   ]
  },
  {
   "cell_type": "markdown",
   "metadata": {},
   "source": [
    "### 2) Write a program that accepts a comma-separated sequence of words as input and prints the words in a comma separated sequence after sorting them alphabetically.\n",
    "\n",
    "```\n",
    "Input Format:\n",
    "The first line of input contains words separated by the comma.\n",
    "Output Format:\n",
    "Print the sorted words separated by the comma.\n",
    "Example:\n",
    "Input:\n",
    "without,hello,bag,world\n",
    "Output:\n",
    "bag,hello,without,world\n",
    "\n",
    "```"
   ]
  },
  {
   "cell_type": "code",
   "execution_count": 8,
   "metadata": {},
   "outputs": [
    {
     "data": {
      "text/plain": [
       "'bag,hello,without,world'"
      ]
     },
     "execution_count": 8,
     "metadata": {},
     "output_type": "execute_result"
    }
   ],
   "source": [
    "def sortstring(word_sequence):\n",
    "    mylist = word_sequence.split(',')\n",
    "    mylist.sort()\n",
    "    return (',').join(mylist)\n",
    "\n",
    "sortstring('without,hello,bag,world')"
   ]
  },
  {
   "cell_type": "markdown",
   "metadata": {},
   "source": [
    "### 3) Create your own Jupyter Notebook for Sets. Reference link: https://www.w3schools.com/python/python_sets.asp"
   ]
  }
 ],
 "metadata": {
  "kernelspec": {
   "display_name": "Python 3",
   "language": "python",
   "name": "python3"
  },
  "language_info": {
   "codemirror_mode": {
    "name": "ipython",
    "version": 3
   },
   "file_extension": ".py",
   "mimetype": "text/x-python",
   "name": "python",
   "nbconvert_exporter": "python",
   "pygments_lexer": "ipython3",
   "version": "3.7.6"
  }
 },
 "nbformat": 4,
 "nbformat_minor": 4
}
