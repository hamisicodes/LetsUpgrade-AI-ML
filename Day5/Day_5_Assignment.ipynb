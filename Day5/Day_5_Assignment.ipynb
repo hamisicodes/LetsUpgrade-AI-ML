{
 "cells": [
  {
   "cell_type": "markdown",
   "metadata": {},
   "source": [
    "### 1) Write a Python program to find the first 20 non-even prime natural numbers."
   ]
  },
  {
   "cell_type": "code",
   "execution_count": 2,
   "metadata": {},
   "outputs": [
    {
     "name": "stdout",
     "output_type": "stream",
     "text": [
      "3 5 7 11 13 17 19 23 29 31 37 41 43 47 53 59 61 67 71 73 "
     ]
    }
   ],
   "source": [
    "#A program to check whether a number is prime or not\n",
    "def isPrime(n):\n",
    "    count = 0\n",
    "    isprime  =False\n",
    "    for i in range(1,n+1):\n",
    "        if n%i == 0:\n",
    "            count += 1  #A prime number has two multiples\n",
    "    \n",
    "    if count == 2:\n",
    "        isprime = True\n",
    "        \n",
    "    return isprime\n",
    "\n",
    "def first_n_prime_numbers(n):\n",
    "    count = 0\n",
    "    for i in range(99999999999999999):\n",
    "        if isPrime(i): #\n",
    "            if i%2 != 0:\n",
    "                print(i, end=' ')\n",
    "                count+=1\n",
    "            if count == n:\n",
    "                break\n",
    "                \n",
    "first_n_prime_numbers(20)"
   ]
  },
  {
   "cell_type": "markdown",
   "metadata": {},
   "source": [
    "### 2) Write a python program to implement 15 functions of a string"
   ]
  },
  {
   "cell_type": "markdown",
   "metadata": {},
   "source": [
    "1. __strip()__ - used to remove spaces at the begining and end of a string\n",
    "1. __find(substring)__ - Retrieves the index of the first occurence of a substring.If given substring is not found ,returns -1\n",
    "1. __count(substring)__ - Counts number of occurences of substrings of a given sting\n",
    "1. __replace(oldstring,newstring)__-Replaces a substring with another in a string\n",
    "1. __split()__ - Splits a string\n",
    "1. __join__ - Joins a splited string from a list based on a specified separator\n",
    "1. __lower()__ - Converts a string to lowercase\n",
    "1. __upper()__ - Converts a string to uppercase\n",
    "1. __swapcase()__ -Swaps the cases by converting lowercases to Uppercases and vice versa\n",
    "1. __title()__- Changes the character of each word in a string to Uppercase'\n",
    "1. __capitalize()__ - Converts only the first character of a string to Uppercase while the rest remain in lowercase\n",
    "1. __startswith()__ -Checks if a string starts with the provided substring\n",
    "1.  __endswith()__ -Checks if a string ends with the provided substring\n",
    "1. __isalpha()__ - returns True if a all characters in a string are alphabets\n",
    "1. __isdigit()__ - returns True if a all characters in a string are digits"
   ]
  },
  {
   "cell_type": "code",
   "execution_count": 41,
   "metadata": {},
   "outputs": [
    {
     "name": "stdout",
     "output_type": "stream",
     "text": [
      "hello LetsUpgrade I am a student\n",
      "10\n",
      "2\n",
      "    hello Coding School I am a student  \n",
      "['hello', 'LetsUpgrade', 'I', 'am', 'a', 'student']\n",
      "hello-LetsUpgrade-I-am-a-student\n",
      "    hello letsupgrade i am a student  \n",
      "    HELLO LETSUPGRADE I AM A STUDENT  \n",
      "    HELLO lETSuPGRADE i AM A STUDENT  \n",
      "    Hello Letsupgrade I Am A Student  \n",
      "Hello letsupgrade i am a student\n",
      "True\n",
      "True\n",
      "False\n",
      "False\n"
     ]
    }
   ],
   "source": [
    "mystring = '    hello LetsUpgrade I am a student  '\n",
    "\n",
    "print(mystring.strip())\n",
    "print(mystring.find('Let'))\n",
    "print(mystring.count('l'))\n",
    "print(mystring.replace('LetsUpgrade','Coding School'))\n",
    "print(mystring.split())\n",
    "print('-'.join(mystring.split()))\n",
    "print(mystring.lower())\n",
    "print(mystring.upper())\n",
    "print(mystring.swapcase())\n",
    "print(mystring.title())\n",
    "print(mystring.strip().capitalize())\n",
    "print(mystring.strip().startswith('h'))\n",
    "print(mystring.strip().endswith('ent'))\n",
    "print(mystring.isdigit())\n",
    "print(mystring.isalpha())\n"
   ]
  },
  {
   "cell_type": "markdown",
   "metadata": {},
   "source": [
    "### 3) Write a Python program to check if the given string is a Palindrome or Anagram or None of them.Display the message accordingly to the user."
   ]
  },
  {
   "cell_type": "code",
   "execution_count": 64,
   "metadata": {},
   "outputs": [
    {
     "name": "stdout",
     "output_type": "stream",
     "text": [
      "Enter a string\n",
      "fgf\n",
      "The string is a Palindrome\n"
     ]
    }
   ],
   "source": [
    "first_string = input('Enter a string\\n').strip().lower()\n",
    "\n",
    "if first_string == first_string[::-1]:\n",
    "    print('The string is a Palindrome')\n",
    "else:\n",
    "    second_string = input('Enter another String\\n').strip().lower()\n",
    "    st1 =sorted(list(first_string)) \n",
    "    print(st1)\n",
    "    \n",
    "    st2 = sorted(list(second_string))\n",
    "    print(st2)\n",
    "    \n",
    "\n",
    "    if st1 == st2:\n",
    "        print('The strings are anagrams')\n",
    "        \n",
    "    else:\n",
    "        print('The string is neither a Palindrome nor an Anagram')\n",
    "    "
   ]
  },
  {
   "cell_type": "markdown",
   "metadata": {},
   "source": [
    "### 4) Write a Python's user defined function that removes all the additional characters from the string and converts it finally to lower case using built-in lower(). eg: If the string is \"Dr. Darshan Ingle @AI-ML Trainer\", then the output be \"drdarshaningleaimltrainer\"."
   ]
  },
  {
   "cell_type": "code",
   "execution_count": 42,
   "metadata": {},
   "outputs": [
    {
     "data": {
      "text/plain": [
       "'drdarshaningleaimltrainer'"
      ]
     },
     "execution_count": 42,
     "metadata": {},
     "output_type": "execute_result"
    }
   ],
   "source": [
    "def myfunc(mystring):\n",
    "    finalstring =''\n",
    "    for i in mystring:\n",
    "        if i.isalpha():\n",
    "            finalstring += i\n",
    "    \n",
    "    return finalstring.lower()\n",
    "\n",
    "\n",
    "myfunc('\"Dr. Darshan Ingle @AI-ML Trainer')\n",
    "    "
   ]
  },
  {
   "cell_type": "code",
   "execution_count": null,
   "metadata": {},
   "outputs": [],
   "source": []
  }
 ],
 "metadata": {
  "kernelspec": {
   "display_name": "Python 3",
   "language": "python",
   "name": "python3"
  },
  "language_info": {
   "codemirror_mode": {
    "name": "ipython",
    "version": 3
   },
   "file_extension": ".py",
   "mimetype": "text/x-python",
   "name": "python",
   "nbconvert_exporter": "python",
   "pygments_lexer": "ipython3",
   "version": "3.7.6"
  }
 },
 "nbformat": 4,
 "nbformat_minor": 4
}
