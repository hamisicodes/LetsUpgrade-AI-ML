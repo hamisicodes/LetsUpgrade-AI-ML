{
 "cells": [
  {
   "cell_type": "markdown",
   "metadata": {},
   "source": [
    "### 1) Write a program to subtract two complex numbers in python"
   ]
  },
  {
   "cell_type": "code",
   "execution_count": 2,
   "metadata": {},
   "outputs": [
    {
     "name": "stdout",
     "output_type": "stream",
     "text": [
      "The subtraction result is  (7+2j)\n"
     ]
    }
   ],
   "source": [
    "a = 10 + 6j\n",
    "b = 3 + 4j\n",
    "difference = a - b\n",
    "print('The subtraction result is ', difference)"
   ]
  },
  {
   "cell_type": "markdown",
   "metadata": {},
   "source": [
    "### 2) Write a program to find the fourth root of a number"
   ]
  },
  {
   "cell_type": "code",
   "execution_count": 8,
   "metadata": {},
   "outputs": [
    {
     "name": "stdout",
     "output_type": "stream",
     "text": [
      "The fourth root of 625 is 5.0\n"
     ]
    }
   ],
   "source": [
    "num = 625\n",
    "fourth_root = num ** (1/4)\n",
    "print('The fourth root of', num ,'is', fourth_root)"
   ]
  },
  {
   "cell_type": "markdown",
   "metadata": {},
   "source": [
    "### 3) Write a program to swap two numbers in python with the help of a temporary variable"
   ]
  },
  {
   "cell_type": "code",
   "execution_count": 18,
   "metadata": {},
   "outputs": [
    {
     "name": "stdout",
     "output_type": "stream",
     "text": [
      "Before swapping:\n",
      " x = 20\n",
      " y = 40\n",
      "After swapping:\n",
      " x = 40\n",
      " y = 20\n"
     ]
    }
   ],
   "source": [
    "x = 20\n",
    "y = 40\n",
    "\n",
    "print(f'Before swapping:\\n x = {x}\\n y = {y}')\n",
    "\n",
    "temp = x\n",
    "x = y\n",
    "y = temp\n",
    "\n",
    "print(f'After swapping:\\n x = {x}\\n y = {y}')"
   ]
  },
  {
   "cell_type": "markdown",
   "metadata": {},
   "source": [
    "### 4) Write a program to swap two numbers in python "
   ]
  },
  {
   "cell_type": "code",
   "execution_count": 19,
   "metadata": {},
   "outputs": [
    {
     "name": "stdout",
     "output_type": "stream",
     "text": [
      "Before swapping:\n",
      " x = 20\n",
      " y = 40\n",
      "After swapping:\n",
      " x = 40\n",
      " y = 20\n"
     ]
    }
   ],
   "source": [
    "x = 20\n",
    "y = 40\n",
    "\n",
    "print(f'Before swapping:\\n x = {x}\\n y = {y}')\n",
    "\n",
    "x = x + y\n",
    "y = x - y\n",
    "x = x - y\n",
    "\n",
    "print(f'After swapping:\\n x = {x}\\n y = {y}')"
   ]
  },
  {
   "cell_type": "markdown",
   "metadata": {},
   "source": [
    "### 5) Write a program to convert fahrenheit to kelvin and celsius both"
   ]
  },
  {
   "cell_type": "code",
   "execution_count": 28,
   "metadata": {},
   "outputs": [
    {
     "name": "stdout",
     "output_type": "stream",
     "text": [
      "45 degrees farenheit equals to 280.37 kelvin\n",
      "45 degrees farenheit equals to 7.22 degrees celsius\n"
     ]
    }
   ],
   "source": [
    "far = 45\n",
    "kel = (far + 459.67)*(5/9)\n",
    "cels =(far - 32)*(5/9)\n",
    "print(f'{far} degrees farenheit equals to {kel:.2f} kelvin')\n",
    "print(f'{far} degrees farenheit equals to {cels:.2f} degrees celsius')"
   ]
  },
  {
   "cell_type": "markdown",
   "metadata": {},
   "source": [
    "###  6) Write a program to demonstrate all the available data types in Python. Hint: Use type() function"
   ]
  },
  {
   "cell_type": "code",
   "execution_count": 35,
   "metadata": {},
   "outputs": [
    {
     "name": "stdout",
     "output_type": "stream",
     "text": [
      "<class 'int'>\n",
      "<class 'str'>\n",
      "<class 'float'>\n",
      "<class 'complex'>\n",
      "<class 'list'>\n",
      "<class 'tuple'>\n",
      "<class 'set'>\n",
      "<class 'dict'>\n",
      "<class 'range'>\n"
     ]
    }
   ],
   "source": [
    "a = 10\n",
    "print(type(a))\n",
    "\n",
    "s = 'Hello World'\n",
    "print(type(s))\n",
    "\n",
    "f = 0.111\n",
    "print(type(f))\n",
    "\n",
    "d = 4 + 6j\n",
    "print(type(d))\n",
    "\n",
    "l = [10,20,30]\n",
    "print(type(l))\n",
    "\n",
    "t = (10,20,30)\n",
    "print(type(t))\n",
    "\n",
    "s = {10,20,30}\n",
    "print(type(s))\n",
    "\n",
    "d = {10:'a',20:\"b\",30:\"c\"}\n",
    "print(type(d))\n",
    "\n",
    "r = range(10)\n",
    "print(type(r))\n"
   ]
  },
  {
   "cell_type": "markdown",
   "metadata": {},
   "source": [
    "###  7) Create a Markdown cell in jupyter and list the steps discussed in the session by Dr. Darshan Ingle sir to create Github profile and upload Githubs Assignment link."
   ]
  },
  {
   "cell_type": "markdown",
   "metadata": {},
   "source": [
    "The steps to create a GitHub profile are as follows:\n",
    "\n",
    "1. Go to www.github.com\n",
    "1. SignUp/SignIn to our account\n",
    "1. Press on the button which says Create New Repository\n",
    "1. Name it as LetsUpgrade AI-ML and fill some description and nothing else and press Create\n",
    "1. After the assignment is done in Jupyter Notebook we have to create a folder with the name of the current day of the session e.g. Day 3\n",
    "1. After that in GitHub we have to select the uploading an existing file link on the setup page which comes up after creating the repository\n",
    "1. Then we have to drag and drop the folder and just commit the changes without editing anything else\n",
    "1. Here we have successfully uploaded the Assignment on GitHub\n",
    "\n",
    "How to upload the GitHubs Assignment Link\n",
    "\n",
    "1. Navigate to the parent repository and open the folder named same as the current day of the session e.g. Day 3\n",
    "1. Just copy the link from the Address Bar and try to see if it is visible to the public by opening the link in incognito mode\n",
    "1. After testing open the Assignment submission form fill the required data and paste the GitHub link which we just copied and press Submit\n",
    "1. Here we have successfully submitted the Assignment"
   ]
  },
  {
   "cell_type": "markdown",
   "metadata": {},
   "source": []
  }
 ],
 "metadata": {
  "kernelspec": {
   "display_name": "Python 3",
   "language": "python",
   "name": "python3"
  },
  "language_info": {
   "codemirror_mode": {
    "name": "ipython",
    "version": 3
   },
   "file_extension": ".py",
   "mimetype": "text/x-python",
   "name": "python",
   "nbconvert_exporter": "python",
   "pygments_lexer": "ipython3",
   "version": "3.7.6"
  }
 },
 "nbformat": 4,
 "nbformat_minor": 4
}
